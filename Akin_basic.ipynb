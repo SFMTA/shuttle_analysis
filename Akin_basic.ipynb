{
 "cells": [
  {
   "cell_type": "code",
   "execution_count": null,
   "metadata": {},
   "outputs": [],
   "source": [
    "SQLalchemy\n",
    "\n"
   ]
  },
  {
   "cell_type": "code",
   "execution_count": 1,
   "metadata": {},
   "outputs": [],
   "source": [
    "import pandas as pd\n",
    "import ipywidgets as ipw\n",
    "from IPython import display\n",
    "from ipyleaflet import (\n",
    "    Map,\n",
    "    Marker,\n",
    "    TileLayer, ImageOverlay,\n",
    "    Polyline, Polygon, Rectangle, Circle, CircleMarker,\n",
    "    GeoJSON,\n",
    "    DrawControl\n",
    ")"
   ]
  },
  {
   "cell_type": "code",
   "execution_count": 2,
   "metadata": {},
   "outputs": [
    {
     "name": "stderr",
     "output_type": "stream",
     "text": [
      "C:\\Users\\Anis Mousse\\Anaconda3\\lib\\site-packages\\IPython\\core\\interactiveshell.py:2723: DtypeWarning: Columns (34) have mixed types. Specify dtype option on import or set low_memory=False.\n",
      "  interactivity=interactivity, compiler=compiler, result=result)\n"
     ]
    }
   ],
   "source": [
    "#getting data\n",
    "df=pd.read_csv('shuttle_three_days.csv')"
   ]
  },
  {
   "cell_type": "code",
   "execution_count": 3,
   "metadata": {},
   "outputs": [],
   "source": [
    "#retrieve_data_criteria(df,'STOP_LOCATION_LATITUDE','SETRA','STOP_LOCATION_LONGITUDE')\n",
    "#retritrie_data(df,'STOP_LOCATION_LATITUDE','')"
   ]
  },
  {
   "cell_type": "code",
   "execution_count": 4,
   "metadata": {},
   "outputs": [],
   "source": [
    "# compagny: STOP_LOCATION_LATITUDE                                    \n",
    "#bus ID STOP_LOCATION_LONGITUDE                                     \n",
    "#latitude SHUTTLE_COMPANY                                           \n",
    "#longitude TECH_PROVIDER_NAME   \n",
    "#date TECH_PROVIDER                                           \n"
   ]
  },
  {
   "cell_type": "code",
   "execution_count": 5,
   "metadata": {},
   "outputs": [],
   "source": [
    "#initial data\n",
    "sf_coor=[37.77397,-122.43129]\n",
    "zoom=13\n",
    "circle_list=[]\n",
    "m = Map(default_tiles=TileLayer(opacity=1.0), center=sf_coor, zoom=zoom)\n",
    "circle_list=[]"
   ]
  },
  {
   "cell_type": "code",
   "execution_count": 6,
   "metadata": {},
   "outputs": [],
   "source": [
    "#functions \n",
    "def retrieve_data_criteria(data,filter_selected,filter_value):     \n",
    "    return data[data[filter_selected]==filter_value]       \n",
    "\n",
    "def retritrie_data(data,filter_selected,defaut_value=None):\n",
    "    if defaut_value==None:\n",
    "        return list(set(data[filter_selected]))    \n",
    "    else:\n",
    "        return [defaut_value] + list(set(data[filter_selected]))\n",
    "    \n",
    "def add_data_to_map(mapp,data,latitude,longitute,radius=30,weight=1,color='#F00',opacity=1.0,fill_opacity=1.0,fill_color='#F00'):\n",
    "    \n",
    "    tmp=(100.-progress.value)/data[latitude].count()\n",
    "    \n",
    "    for point in zip(data[latitude],data[longitute]):\n",
    "        circle = Circle(location=point, radius=radius, weight=weight,\n",
    "            color=color, opacity=opacity, fill_opacity=fill_opacity,\n",
    "            fill_color=fill_color)\n",
    "        circle_list.append(circle)\n",
    "        mapp.add_layer(circle) \n",
    "        progress.value+=tmp\n",
    "    \n",
    "        \n",
    "def remove_data_from_map(mapp):\n",
    "    for circle in circle_list:\n",
    "        mapp.remove_layer(circle)\n",
    "        \n",
    "def load_data_to_map(mapp,bus_company_value,bus_id_value,bus_date_value,bus_color):\n",
    "    progress.value+=10\n",
    "    tmp=retrieve_data_criteria(\n",
    "            retrieve_data_criteria(\n",
    "                retrieve_data_criteria(df,'STOP_LOCATION_LATITUDE',bus_company_value),\n",
    "                        'STOP_LOCATION_LONGITUDE',bus_id_value),'TECH_PROVIDER',bus_date_value)\n",
    "    #print (tmp)\n",
    "    progress.value+=10\n",
    "    add_data_to_map(mapp,tmp,'SHUTTLE_COMPANY','TECH_PROVIDER_NAME',color=bus_color)\n",
    "    \n",
    "def get_bus_date_by_bus_id_and_bus_company(bus_company_value,bus_id_value,bus_date_wj):\n",
    "    bus_date_wj.options=retritrie_data(retrieve_data_criteria(\n",
    "                                        retrieve_data_criteria(df,'STOP_LOCATION_LATITUDE',bus_company_value),\n",
    "                                        'STOP_LOCATION_LONGITUDE',bus_id_value),\n",
    "                                     'TECH_PROVIDER')\n",
    "    \n",
    "def get_bus_id_by_bus_company(bus_company_value,bus_id_wj):\n",
    "    bus_id_wj.options=retritrie_data(retrieve_data_criteria(df,'STOP_LOCATION_LATITUDE',bus_company_value),'STOP_LOCATION_LONGITUDE')\n",
    "    \n",
    "def init_application(bus_comp_wj,bus_id,bus_date):\n",
    "    #get all bus company\n",
    "    bus_comp_wj.options=retritrie_data(df,'STOP_LOCATION_LATITUDE','')\n",
    "\n",
    "\n",
    "    #print (bus_company.value)"
   ]
  },
  {
   "cell_type": "code",
   "execution_count": 7,
   "metadata": {},
   "outputs": [
    {
     "data": {
      "text/html": [
       "<p>Failed to display Jupyter Widget of type <code>VBox</code>.</p>\n",
       "<p>\n",
       "  If you're reading this message in Jupyter Notebook or JupyterLab, it may mean\n",
       "  that the widgets JavaScript is still loading. If this message persists, it\n",
       "  likely means that the widgets JavaScript library is either not installed or\n",
       "  not enabled. See the <a href=\"https://ipywidgets.readthedocs.io/en/stable/user_install.html\">Jupyter\n",
       "  Widgets Documentation</a> for setup instructions.\n",
       "</p>\n",
       "<p>\n",
       "  If you're reading this message in another notebook frontend (for example, a static\n",
       "  rendering on GitHub or <a href=\"https://nbviewer.jupyter.org/\">NBViewer</a>),\n",
       "  it may mean that your frontend doesn't currently support widgets.\n",
       "</p>\n"
      ],
      "text/plain": [
       "VBox(children=(HBox(children=(Dropdown(description='Bus Company', options=('', nan, 'STRC', 'Sprinter', 'CHEVROLET', 'SETRA', 'MCI', 'chevorlet', 'Vanhool', 'CHEVY', 'FORD', 'Temsa', 'VanHool ', 'Ford', 'Vanholl', 'TEMSA', 'Mercedes', 'Freightliner', 'Van Hool', 'VanHool', 'Ford ', 'Prevost', 'GNRC', 'VANHOOL'), value=''), Dropdown(description='Bus ID', options=(), value=None), Dropdown(description='Date selected', options=(), value=None))), HBox(children=(ColorPicker(value='black', description='Bus color'), Button(description='Update Map', style=ButtonStyle()), Button(description='Clear Map', style=ButtonStyle()))), FloatProgress(value=0.0)))"
      ]
     },
     "metadata": {},
     "output_type": "execute_result"
    },
    {
     "data": {
      "text/html": [
       "<p>Failed to display Jupyter Widget of type <code>Map</code>.</p>\n",
       "<p>\n",
       "  If you're reading this message in Jupyter Notebook or JupyterLab, it may mean\n",
       "  that the widgets JavaScript is still loading. If this message persists, it\n",
       "  likely means that the widgets JavaScript library is either not installed or\n",
       "  not enabled. See the <a href=\"https://ipywidgets.readthedocs.io/en/stable/user_install.html\">Jupyter\n",
       "  Widgets Documentation</a> for setup instructions.\n",
       "</p>\n",
       "<p>\n",
       "  If you're reading this message in another notebook frontend (for example, a static\n",
       "  rendering on GitHub or <a href=\"https://nbviewer.jupyter.org/\">NBViewer</a>),\n",
       "  it may mean that your frontend doesn't currently support widgets.\n",
       "</p>\n"
      ],
      "text/plain": [
       "Map(center=[37.77397, -122.43129], layers=(TileLayer(options=['min_zoom', 'tile_size', 'detect_retina', 'opacity', 'attribution', 'max_zoom']),), layout=Layout(align_self='stretch', height='400px'), options=['close_popup_on_click', 'inertia', 'keyboard', 'touch_zoom', 'min_zoom', 'scroll_wheel_zoom', 'attribution_control', 'bounce_at_zoom_limits', 'keyboard_pan_offset', 'world_copy_jump', 'max_zoom', 'tap', 'zoom_animation_threshold', 'double_click_zoom', 'tap_tolerance', 'inertia_deceleration', 'dragging', 'zoom_control', 'box_zoom', 'center', 'zoom_start', 'inertia_max_speed', 'keyboard_zoom_offset', 'zoom'], zoom=13)"
      ]
     },
     "metadata": {},
     "output_type": "execute_result"
    }
   ],
   "source": [
    "\n",
    "bus_company=ipw.Dropdown(description='Bus Company')\n",
    "bus_id=ipw.Dropdown(description='Bus ID')\n",
    "bus_selected_date=ipw.Dropdown(description='Date selected')\n",
    "bus_color_on_map=ipw.ColorPicker(description='Bus color')\n",
    "send_button=ipw.Button(description='Update Map')\n",
    "clear_button=ipw.Button(description='Clear Map')\n",
    "init_application(bus_company,bus_id,bus_selected_date)\n",
    "progress=ipw.FloatProgress(min=0.0,max=100.0,value=0,description ='')\n",
    "contenaire_layer_1=ipw.HBox([bus_company,bus_id,bus_selected_date])\n",
    "contenaire_layer_2=ipw.HBox([bus_color_on_map,send_button,clear_button])\n",
    "contenaire=ipw.VBox([contenaire_layer_1,contenaire_layer_2,progress])\n",
    "\n",
    "\n",
    "def on_bus_comp_select(bus_comp_drop):\n",
    "    print(bus_company.value)\n",
    "    get_bus_id_by_bus_company(bus_company.value,bus_id)\n",
    "    \n",
    "    #if type(bus_id_drop['new'])== string:\n",
    "        #get_bus_id_by_bus_company(bus_id_drop['new'],bus_id)\n",
    "def on_bus_id_select(bus_id_drop):\n",
    "    get_bus_date_by_bus_id_and_bus_company(bus_company.value,bus_id.value,bus_selected_date)\n",
    "        \n",
    "def on_update_map(updatebtt):\n",
    "    progress.value=0\n",
    "    load_data_to_map(m,bus_company.value,bus_id.value,bus_selected_date.value,bus_color_on_map.value)\n",
    "\n",
    "def on_clear_map(clear):\n",
    "    remove_data_from_map(m)\n",
    "    \n",
    "bus_company.observe(on_bus_comp_select)\n",
    "bus_id.observe(on_bus_id_select)\n",
    "send_button.on_click(on_update_map)\n",
    "clear_button.on_click(on_clear_map)\n",
    "display.display(contenaire)\n",
    "display.display(m)"
   ]
  },
  {
   "cell_type": "code",
   "execution_count": 8,
   "metadata": {},
   "outputs": [
    {
     "data": {
      "text/plain": [
       "'0.4.0'"
      ]
     },
     "execution_count": 8,
     "metadata": {},
     "output_type": "execute_result"
    }
   ],
   "source": [
    "import ipyleaflet\n",
    "ipyleaflet.__version__"
   ]
  },
  {
   "cell_type": "code",
   "execution_count": null,
   "metadata": {},
   "outputs": [],
   "source": []
  }
 ],
 "metadata": {
  "anaconda-cloud": {},
  "kernelspec": {
   "display_name": "Python [Root]",
   "language": "python",
   "name": "Python [Root]"
  },
  "language_info": {
   "codemirror_mode": {
    "name": "ipython",
    "version": 3
   },
   "file_extension": ".py",
   "mimetype": "text/x-python",
   "name": "python",
   "nbconvert_exporter": "python",
   "pygments_lexer": "ipython3",
   "version": "3.5.2"
  }
 },
 "nbformat": 4,
 "nbformat_minor": 1
}
