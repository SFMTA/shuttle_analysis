{
 "cells": [
  {
   "cell_type": "markdown",
   "metadata": {
    "collapsed": true
   },
   "source": [
    "## Step 1: Connect to the database and read the values"
   ]
  },
  {
   "cell_type": "code",
   "execution_count": null,
   "metadata": {},
   "outputs": [],
   "source": [
    "import pandas as pd\n",
    "from sqlalchemy import create_engine\n",
    "\n",
    "engine = create_engine('postgresql://postgres@localhost/shuttle_database')\n",
    "\n",
    "conn = engine.connect()\n",
    "input_df = pd.read_sql(\"SELECT * FROM shuttle_locations LIMIT 1000\", conn)\n",
    "input_df"
   ]
  },
  {
   "cell_type": "markdown",
   "metadata": {},
   "source": [
    "## Step 2: fill in the blanks on data that does not have CNN information"
   ]
  },
  {
   "cell_type": "code",
   "execution_count": null,
   "metadata": {},
   "outputs": [],
   "source": [
    "import math\n",
    "import functools\n",
    "import datetime as dt\n",
    "\n",
    "def start_time(series):\n",
    "    return functools.reduce(lambda x, y: x if x < y else y, series)\n",
    " \n",
    "def start_time(series):\n",
    "    return functools.reduce(lambda x, y: x if x < y else y, series)\n",
    "        \n",
    "def new_cnn(series):\n",
    "    if len(series)<2:\n",
    "        return True\n",
    "    else:\n",
    "        return series[0] != series[1]\n",
    "    \n",
    "def flatten_aggregations(df):\n",
    "    df.columns = [' '.join(col).strip() for col in df.columns.values]\n",
    "    return df\n",
    "\n",
    "def create_cnn_events(df):\n",
    "    return df['cnn'].rolling(2, min_periods=1).apply(new_cnn).cumsum()\n",
    "\n",
    "def to_summary_format(df):\n",
    "   return pd.concat([\n",
    "        df['shuttle_id first'],\n",
    "        df['cnn first'],\n",
    "        df['ts min'],\n",
    "        df['ts max'],\n",
    "        df['ts count']] ,\n",
    "        axis=1, \n",
    "        keys=['shuttle_id','cnn','start_time', 'end_time','num_points']) \n",
    "\n",
    "def aggregate_by_cnn_event(df):\n",
    "        df['ts'] = df['local_timestamp'].astype('int64')\n",
    "        df = df.groupby(['cnn_event'])\n",
    "        df_agg = df.agg({'shuttle_id': 'first', 'cnn': 'first', 'ts': ['min','max','count']})\n",
    "        \n",
    "        df_flat = flatten_aggregations(df_agg)        \n",
    "\n",
    "        res_df = to_summary_format(df_flat)\n",
    "\n",
    "        res_df['start_time'] = pd.to_datetime(res_df['start_time'], unit='ns')\n",
    "        res_df['end_time'] = pd.to_datetime(res_df['end_time'], unit='ns')\n",
    "        return res_df\n",
    "    \n",
    "def prep_df_for_summary(df):\n",
    "\n",
    "\n",
    "    dfs = df.groupby(['shuttle_id'])\n",
    "    shuttle_map = {}\n",
    "    for name, grouped in dfs:\n",
    "        sorted_df = grouped.sort_values('local_timestamp')\n",
    "        sorted_df['cnn'].fillna(method='ffill',inplace=True)\n",
    "        print(sorted_df)\n",
    "        sorted_df['cnn_event'] = create_cnn_events(sorted_df)        \n",
    "        shuttle_map[name] = aggregate_by_cnn_event(sorted_df)\n",
    "\n",
    "    return shuttle_map\n",
    "result = prep_df_for_summary(input_df)\n",
    "result[8]\n",
    "\n"
   ]
  },
  {
   "cell_type": "markdown",
   "metadata": {},
   "source": [
    "## Step 4: Insert into shuttle_summary_facts Table"
   ]
  },
  {
   "cell_type": "code",
   "execution_count": null,
   "metadata": {
    "collapsed": true
   },
   "outputs": [],
   "source": [
    "for a in result.values():\n",
    "    a.to_sql(name='shuttle_summary_facts', index=False, if_exists='append', chunksize=10000, con=conn)"
   ]
  },
  {
   "cell_type": "code",
   "execution_count": null,
   "metadata": {
    "collapsed": true
   },
   "outputs": [],
   "source": [
    "\n",
    "\n",
    "\n",
    "\n",
    "\n",
    "\n",
    "\n"
   ]
  }
 ],
 "metadata": {
  "kernelspec": {
   "display_name": "Python 3",
   "language": "python",
   "name": "python3"
  },
  "language_info": {
   "codemirror_mode": {
    "name": "ipython",
    "version": 3
   },
   "file_extension": ".py",
   "mimetype": "text/x-python",
   "name": "python",
   "nbconvert_exporter": "python",
   "pygments_lexer": "ipython3",
   "version": "3.6.3"
  }
 },
 "nbformat": 4,
 "nbformat_minor": 2
}
