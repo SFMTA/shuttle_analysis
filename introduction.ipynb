{
 "cells": [
  {
   "cell_type": "markdown",
   "metadata": {},
   "source": [
    "# This notebook will demonstrate a few features to get you started with creating your own notebook for custom analyses. \n",
    "\n",
    "---\n",
    "## Let's first connect to the appropriate database. The custom `sfmta` library helps us do this."
   ]
  },
  {
   "cell_type": "code",
   "execution_count": 8,
   "metadata": {},
   "outputs": [
    {
     "name": "stdout",
     "output_type": "stream",
     "text": [
      "Connection Created\n"
     ]
    }
   ],
   "source": [
    "import sfmta\n",
    "import os\n",
    "import psycopg2\n",
    "import datetime\n",
    "import pandas as pd\n",
    "\n",
    "os.environ['SHUTTLE_DB_USER'] = \"postgres\"\n",
    "os.environ['SHUTTLE_DB_PASSWORD'] =''\n",
    "os.environ['SHUTTLE_DB_HOST'] =\"localhost\"",
    "\n",
    "conn = sfmta.db_connect()"
   ]
  },
  {
   "cell_type": "markdown",
   "metadata": {},
   "source": [
    "## Now we'll execute or first `SQL` query to retrieve all points for a single shuttle between two dates and times (e.g., from 7:30am on 9/19/2017 to 7:30am on 9/20/2017).\n",
    "\n",
    "## After retrieving the relevant data, we can then visualize it on a map or graph it in a chart."
   ]
  },
  {
   "cell_type": "code",
   "execution_count": 11,
   "metadata": {},
   "outputs": [
    {
     "data": {
      "text/html": [
       "<div>\n",
       "<style>\n",
       "    .dataframe thead tr:only-child th {\n",
       "        text-align: right;\n",
       "    }\n",
       "\n",
       "    .dataframe thead th {\n",
       "        text-align: left;\n",
       "    }\n",
       "\n",
       "    .dataframe tbody tr th {\n",
       "        vertical-align: top;\n",
       "    }\n",
       "</style>\n",
       "<table border=\"1\" class=\"dataframe\">\n",
       "  <thead>\n",
       "    <tr style=\"text-align: right;\">\n",
       "      <th></th>\n",
       "      <th>lat</th>\n",
       "      <th>lng</th>\n",
       "    </tr>\n",
       "    <tr>\n",
       "      <th>time</th>\n",
       "      <th></th>\n",
       "      <th></th>\n",
       "    </tr>\n",
       "  </thead>\n",
       "  <tbody>\n",
       "    <tr>\n",
       "      <th>2017-09-19 08:11:22</th>\n",
       "      <td>-122.396966</td>\n",
       "      <td>37.746787</td>\n",
       "    </tr>\n",
       "    <tr>\n",
       "      <th>2017-09-19 08:11:28</th>\n",
       "      <td>-122.396710</td>\n",
       "      <td>37.746774</td>\n",
       "    </tr>\n",
       "    <tr>\n",
       "      <th>2017-09-19 08:11:34</th>\n",
       "      <td>-122.396672</td>\n",
       "      <td>37.746752</td>\n",
       "    </tr>\n",
       "    <tr>\n",
       "      <th>2017-09-19 08:11:40</th>\n",
       "      <td>-122.396634</td>\n",
       "      <td>37.746726</td>\n",
       "    </tr>\n",
       "    <tr>\n",
       "      <th>2017-09-19 08:11:46</th>\n",
       "      <td>-122.396557</td>\n",
       "      <td>37.746698</td>\n",
       "    </tr>\n",
       "  </tbody>\n",
       "</table>\n",
       "</div>"
      ],
      "text/plain": [
       "                            lat        lng\n",
       "time                                      \n",
       "2017-09-19 08:11:22 -122.396966  37.746787\n",
       "2017-09-19 08:11:28 -122.396710  37.746774\n",
       "2017-09-19 08:11:34 -122.396672  37.746752\n",
       "2017-09-19 08:11:40 -122.396634  37.746726\n",
       "2017-09-19 08:11:46 -122.396557  37.746698"
      ]
     },
     "execution_count": 11,
     "metadata": {},
     "output_type": "execute_result"
    }
   ],
   "source": [
    "plate = 'CP96872'\n",
    "\n",
    "# 2017-09-19 07:30:00\n",
    "start = datetime.datetime(year=2017, month=9, day=19, hour=7, minute=30)\n",
    "\n",
    "#2017-09-20 07:30:00\n",
    "end = datetime.datetime(year=2017, month=9, day=20, hour=7, minute=30)\n",
    "\n",
    "def get_points_for_shuttle(connection, plate, start, end):\n",
    "    cursor = connection.cursor()\n",
    "    query = '''SELECT local_timestamp, location[0], location[1] \n",
    "               FROM shuttle_locations l LEFT OUTER JOIN shuttles s \n",
    "               ON l.shuttle_id=s.id WHERE s.vehicle_license_plate=%(plate)s\n",
    "               AND local_timestamp BETWEEN %(start)s::timestamp\n",
    "                 AND %(end)s::timestamp\n",
    "               ORDER BY local_timestamp;'''\n",
    "\n",
    "    cursor.execute(query, {'plate': plate, 'start':start, 'end':end,} )\n",
    "    results = cursor.fetchall()\n",
    "    return pd.DataFrame.from_records(results, columns=['time', 'lat', 'lng']).set_index('time')\n",
    "\n",
    "dataframe = get_points_for_shuttle(connection=conn, plate=plate, start=start, end=end)\n",
    "\n",
    "# Retrive top 5 rows for a quick view of the data\n",
    "dataframe.head(n=5)"
   ]
  },
  {
   "cell_type": "code",
   "execution_count": null,
   "metadata": {},
   "outputs": [],
   "source": []
  }
 ],
 "metadata": {
  "kernelspec": {
   "display_name": "sfmta",
   "language": "python",
   "name": "sfmta"
  },
  "language_info": {
   "codemirror_mode": {
    "name": "ipython",
    "version": 3
   },
   "file_extension": ".py",
   "mimetype": "text/x-python",
   "name": "python",
   "nbconvert_exporter": "python",
   "pygments_lexer": "ipython3",
   "version": "3.6.2"
  }
 },
 "nbformat": 4,
 "nbformat_minor": 2
}
