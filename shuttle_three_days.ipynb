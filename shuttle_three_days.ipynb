{
 "cells": [
  {
   "cell_type": "code",
   "execution_count": null,
   "metadata": {
    "collapsed": true
   },
   "outputs": [],
   "source": [
    "# Identify column headers\n",
    "path = 'expanded_shuttle_three_days.csv'\n",
    "\n",
    "import csv\n",
    "with open(path, newline='') as f:\n",
    "    reader = csv.reader(f)\n",
    "    row1 = next(reader)\n",
    "\n",
    "columns = row1"
   ]
  },
  {
   "cell_type": "code",
   "execution_count": null,
   "metadata": {},
   "outputs": [],
   "source": [
    "import pandas as pd\n",
    "\n",
    "dtypes = {'SHUTTLE_COMPANY': str, 'RESTRICTION': str, 'ARTERIAL': str,\n",
    "          'STREET': str}\n",
    "df = pd.read_csv(path, error_bad_lines=False, names=columns, header=None, dtype=dtypes)"
   ]
  },
  {
   "cell_type": "code",
   "execution_count": null,
   "metadata": {
    "collapsed": true
   },
   "outputs": [],
   "source": [
    "# Remove 1st roow\n",
    "df = df.iloc[1:]\n",
    "\n",
    "# Change type to datetime\n",
    "df['TIMESTAMPLOCAL'] = pd.to_datetime(df['TIMESTAMPLOCAL'], format='%d-%b-%y %I.%M.%S.%f %p')"
   ]
  },
  {
   "cell_type": "markdown",
   "metadata": {},
   "source": [
    "---"
   ]
  },
  {
   "cell_type": "code",
   "execution_count": null,
   "metadata": {},
   "outputs": [],
   "source": [
    "import sfmta\n",
    "import json\n",
    "from ipywidgets import Dropdown, HBox, VBox, Button, DatePicker, ColorPicker\n",
    "from ipyleaflet import Map, Polyline, GeoJSON\n",
    "\n",
    "def clear_map():\n",
    "    if 'm' in globals():\n",
    "        m.close()\n",
    "    else:\n",
    "        pass\n",
    "    \n",
    "def clear_lat_longs():\n",
    "    if 'lat_longs' in globals():\n",
    "        lat_longs = None\n",
    "    else:\n",
    "        pass\n",
    "    \n",
    "def draw_map(lat_longs):\n",
    "    center = [37.79481, -122.41186]\n",
    "    zoom = 12\n",
    "\n",
    "    m = Map(center=center, zoom=zoom)\n",
    "    m.layout.height = '650px'\n",
    "    pl = Polyline(locations=lat_longs)\n",
    "    pl.color = path_color.value\n",
    "    pl.fill_color = path_color.value\n",
    "    m.add_layer(pl)\n",
    "    return m\n",
    "\n",
    "plates = df['LICENSE_PLATE_NUM'].unique()\n",
    "plate_dropdown = Dropdown(options=plates, description='Plate')\n",
    "\n",
    "def on_button_clicked(b):\n",
    "    clear_map()\n",
    "    clear_lat_longs\n",
    "    plate = plate_dropdown.value\n",
    "    global lat_longs\n",
    "    lat_longs = sfmta.lat_long_by_plate(df, plate)\n",
    "    global m \n",
    "    m = draw_map(lat_longs)\n",
    "    display(m)\n",
    "        \n",
    "button = Button(description=\"Draw/Update Map\")\n",
    "button.on_click(on_button_clicked)\n",
    "\n",
    "\n",
    "# Add restrictions\n",
    "def show_restrictions(b):\n",
    "    polygons = 'vehiclerestrictions_wgs.json'\n",
    "    \n",
    "    with open(polygons) as f:\n",
    "        polygons_json = json.load(f)\n",
    "\n",
    "    global geojson\n",
    "    geojson = GeoJSON(data=polygons_json)\n",
    "    m.add_layer(geojson)\n",
    "\n",
    "button_restrictions = Button(description=\"Show Restrictions\")\n",
    "button_restrictions.on_click(show_restrictions)\n",
    "\n",
    "\n",
    "# Remove restrictions\n",
    "def remove_restrictions(b):\n",
    "    if 'geojson' in globals():\n",
    "        m.remove_layer(geojson)\n",
    "    else:\n",
    "        pass\n",
    "    \n",
    "def download_data(b):\n",
    "    if 'lat_longs' in globals():\n",
    "        df = pd.DataFrame(data=lat_longs)\n",
    "        df.to_excel('output.xlsx')\n",
    "    else:\n",
    "        pass\n",
    "    \n",
    "button_remove_restrictions = Button(description=\"Hide Restrictions\")\n",
    "button_remove_restrictions.on_click(remove_restrictions)\n",
    "\n",
    "path_color = ColorPicker(description='Color')\n",
    "\n",
    "export_data = Button(description=\"Download Data\")\n",
    "export_data.on_click(download_data)\n",
    "\n",
    "#Temp placeholders\n",
    "start_date = DatePicker(description='Start')\n",
    "end_date = DatePicker(description='End')\n",
    "companies = df['SHUTTLE_COMPANY'].unique()\n",
    "company = Dropdown(options=companies, value='WeDriveU', description='Company')\n",
    "\n",
    "VBox([HBox([company, button, button_restrictions, button_remove_restrictions]),\n",
    "      HBox([plate_dropdown, export_data]),\n",
    "      HBox([path_color]),\n",
    "      HBox([start_date]),\n",
    "      HBox([end_date])\n",
    "     ])"
   ]
  },
  {
   "cell_type": "code",
   "execution_count": null,
   "metadata": {
    "collapsed": true
   },
   "outputs": [],
   "source": []
  }
 ],
 "metadata": {
  "kernelspec": {
   "display_name": "sfmta",
   "language": "python",
   "name": "sfmta"
  },
  "language_info": {
   "codemirror_mode": {
    "name": "ipython",
    "version": 3
   },
   "file_extension": ".py",
   "mimetype": "text/x-python",
   "name": "python",
   "nbconvert_exporter": "python",
   "pygments_lexer": "ipython3",
   "version": "3.6.2"
  }
 },
 "nbformat": 4,
 "nbformat_minor": 2
}
