{
 "cells": [
  {
   "cell_type": "markdown",
   "metadata": {},
   "source": [
    "1. histogram by cnn, plot by cnn\n",
    "2. plot all busses and find idling areas / times\n",
    "3. "
   ]
  },
  {
   "cell_type": "code",
   "execution_count": null,
   "metadata": {
    "collapsed": true
   },
   "outputs": [],
   "source": []
  },
  {
   "cell_type": "code",
   "execution_count": null,
   "metadata": {
    "collapsed": true
   },
   "outputs": [],
   "source": [
    "import sfmta\n",
    "import pandas as pd\n",
    "import os\n",
    "\n",
    "os.environ['SHUTTLE_DB_USER'] = \"postgres\"\n",
    "os.environ['SHUTTLE_DB_PASSWORD'] =''"
   ]
  },
  {
   "cell_type": "code",
   "execution_count": null,
   "metadata": {},
   "outputs": [],
   "source": [
    "conn = sfmta.db_connect()\n",
    "#postgres is the username"
   ]
  },
  {
   "cell_type": "code",
   "execution_count": null,
   "metadata": {},
   "outputs": [],
   "source": [
    "license_plate = 'CP96872'\n",
    "\n",
    "query = '''SELECT local_timestamp, location[0], location[1] \n",
    "           FROM shuttle_locations l LEFT OUTER JOIN shuttles s \n",
    "           ON l.shuttle_id=s.id WHERE s.vehicle_license_plate = (%s)\n",
    "          ORDER BY local_timestamp'''\n",
    "\n",
    "cursor = conn.cursor()\n",
    "cursor.execute(query, (license_plate,))\n",
    "\n",
    "rows = cursor.fetchall()\n",
    "pd.DataFrame(rows)"
   ]
  },
  {
   "cell_type": "code",
   "execution_count": null,
   "metadata": {
    "collapsed": true
   },
   "outputs": [],
   "source": []
  },
  {
   "cell_type": "markdown",
   "metadata": {},
   "source": [
    "---"
   ]
  },
  {
   "cell_type": "code",
   "execution_count": null,
   "metadata": {
    "scrolled": false
   },
   "outputs": [],
   "source": [
    "import sfmta\n",
    "import json\n",
    "import pandas as pd\n",
    "from ipywidgets import Dropdown, HBox, VBox, Button, DatePicker, ColorPicker, IntSlider\n",
    "from ipyleaflet import Map, Polyline, GeoJSON, Circle\n",
    "\n",
    "def clear_map():\n",
    "    if 'm' in globals():\n",
    "        m.close()\n",
    "    else:\n",
    "        pass\n",
    "    \n",
    "def clear_lat_longs():\n",
    "    if 'lat_longs' in globals():\n",
    "        lat_longs = None\n",
    "    else:\n",
    "        pass\n",
    "    \n",
    "def clear_time_slider():\n",
    "    if 'time_slider' in globals():\n",
    "        time_slider = None\n",
    "    else:\n",
    "        pass\n",
    "\n",
    "def draw_update_map(b):\n",
    "    clear_map()\n",
    "    clear_lat_longs()\n",
    "    plate = plate_dropdown.value\n",
    "    global locations\n",
    "    locations = sfmta.get_points_for_shuttle(conn, plate)\n",
    "    zip_locations = zip(locations['lng'], locations['lat'], locations.index)\n",
    "    global lat_longs\n",
    "    lat_longs = [(x[0], x[1]) for x in zip_locations]\n",
    "    index_value = find_index(lat_longs, time_slider.value)\n",
    "    global m\n",
    "    m = draw_map(lat_longs[:index_value])\n",
    "    display(m)\n",
    "    \n",
    "button = Button(description=\"Draw/Update Map\")\n",
    "button.on_click(draw_update_map)\n",
    "time_slider = IntSlider(min=0, max=100, step=1, description='% of Data', value=100)\n",
    "\n",
    "def find_index(lat_longs, value):\n",
    "    length = len(lat_longs)\n",
    "    index = int(length * value/100)\n",
    "    return index\n",
    "\n",
    "def draw_map(lat_longs):\n",
    "    center = [37.79481, -122.41186]\n",
    "    zoom = 12\n",
    "    m = Map(center=center, zoom=zoom)\n",
    "    m.layout.height = '650px'\n",
    "    pl = Polyline(locations=lat_longs)\n",
    "    pl.color = path_color.value\n",
    "    pl.fill_color = path_color.value\n",
    "    m.add_layer(pl)\n",
    "    return m\n",
    "\n",
    "plates = sfmta.get_all_shuttles(conn)['LICENSE_PLATE'].unique()\n",
    "plate_dropdown = Dropdown(options=plates, description='Plate')\n",
    "\n",
    "# Add restrictions\n",
    "def show_restrictions(b):\n",
    "    polygons = 'vehiclerestrictions_wgs.json'\n",
    "    \n",
    "    with open(polygons) as f:\n",
    "        polygons_json = json.load(f)\n",
    "\n",
    "    global geojson\n",
    "    geojson = GeoJSON(data=polygons_json)\n",
    "    m.add_layer(geojson)\n",
    "    \n",
    "\n",
    "# Remove restrictions\n",
    "def remove_restrictions(b):\n",
    "    if 'geojson' in globals():\n",
    "        m.remove_layer(geojson)\n",
    "    else:\n",
    "        pass\n",
    "    \n",
    "def download_data(b):\n",
    "    if 'lat_longs' in globals():\n",
    "        df = pd.DataFrame(data=lat_longs)\n",
    "        df.to_excel('output.xlsx')\n",
    "    else:\n",
    "        pass\n",
    "    \n",
    "button_restrictions = Button(description=\"Show Restrictions\")\n",
    "button_restrictions.on_click(show_restrictions)\n",
    "    \n",
    "button_remove_restrictions = Button(description=\"Hide Restrictions\")\n",
    "button_remove_restrictions.on_click(remove_restrictions)\n",
    "\n",
    "path_color = ColorPicker(description='Color')\n",
    "\n",
    "export_data = Button(description=\"Download Data\")\n",
    "export_data.on_click(download_data)\n",
    "\n",
    "\n",
    "def top_n_stops(b):\n",
    "    from collections import Counter\n",
    "    count_lat_longs = Counter(lat_longs).most_common()\n",
    "    for lat_long in count_lat_longs[0:10]:\n",
    "        location = lat_long[0]\n",
    "        circle = Circle(location=location, radius=300)\n",
    "        m.add_layer(circle)\n",
    "    return m\n",
    "\n",
    "button_add_top_stops = Button(description=\"Display Bus Idling\")\n",
    "button_add_top_stops.on_click(top_n_stops)\n",
    "\n",
    "# Remove map button needs it's own function with a single argument\n",
    "def remove_map(b):\n",
    "    clear_map()\n",
    "\n",
    "button_clear_map = Button(description=\"Remove Map\")\n",
    "button_clear_map.on_click(remove_map)\n",
    "\n",
    "#Temp placeholders\n",
    "import datetime\n",
    "start = datetime.date(2017,11,6)\n",
    "end = datetime.date(2017,11,9)\n",
    "start_date = DatePicker(description='Start',value=start)\n",
    "end_date = DatePicker(description='End', value=end)\n",
    "companies = sfmta.get_shuttles_companies(conn)['NAME'].unique()\n",
    "company = Dropdown(options=companies, value='WeDriveU', description='Company')\n",
    "\n",
    "VBox([HBox([company, button, button_restrictions, button_remove_restrictions]),\n",
    "      HBox([plate_dropdown, export_data, button_add_top_stops, button_clear_map]),\n",
    "      HBox([path_color]),\n",
    "      HBox([start_date]),\n",
    "      HBox([end_date]),\n",
    "      HBox([time_slider]),\n",
    "     ])"
   ]
  },
  {
   "cell_type": "code",
   "execution_count": null,
   "metadata": {
    "collapsed": true
   },
   "outputs": [],
   "source": []
  },
  {
   "cell_type": "code",
   "execution_count": null,
   "metadata": {},
   "outputs": [],
   "source": [
    "def draw_map(lat_longs):\n",
    "    center = [37.79481, -122.41186]\n",
    "    zoom = 12\n",
    "    m = Map(center=center, zoom=zoom)\n",
    "    m.layout.height = '650px'\n",
    "    pl = Polyline(locations=lat_longs)\n",
    "    pl.color = path_color.value\n",
    "    pl.fill_color = path_color.value\n",
    "    m.add_layer(pl)\n",
    "    return m"
   ]
  },
  {
   "cell_type": "code",
   "execution_count": null,
   "metadata": {
    "collapsed": true
   },
   "outputs": [],
   "source": []
  },
  {
   "cell_type": "code",
   "execution_count": null,
   "metadata": {},
   "outputs": [],
   "source": [
    "center = [37.79481, -122.41186]\n",
    "zoom = 12\n",
    "m = Map(center=center, zoom=zoom)\n",
    "m.layout.height = '650px'\n",
    "pl = Polyline(locations=lat_longs)\n",
    "pl.color = path_color.value\n",
    "pl.fill_color = path_color.value\n",
    "m.add_layer(pl)\n",
    "m"
   ]
  },
  {
   "cell_type": "code",
   "execution_count": null,
   "metadata": {},
   "outputs": [],
   "source": [
    "m.get_state"
   ]
  },
  {
   "cell_type": "code",
   "execution_count": null,
   "metadata": {
    "collapsed": true
   },
   "outputs": [],
   "source": []
  },
  {
   "cell_type": "code",
   "execution_count": null,
   "metadata": {
    "collapsed": true
   },
   "outputs": [],
   "source": []
  },
  {
   "cell_type": "code",
   "execution_count": null,
   "metadata": {
    "collapsed": true
   },
   "outputs": [],
   "source": []
  },
  {
   "cell_type": "code",
   "execution_count": null,
   "metadata": {
    "collapsed": true
   },
   "outputs": [],
   "source": []
  },
  {
   "cell_type": "code",
   "execution_count": null,
   "metadata": {
    "collapsed": true
   },
   "outputs": [],
   "source": [
    "import os\n",
    "import pandas as pd\n",
    "import psycopg2\n",
    "\n",
    "def get_all_shuttles(connection):\n",
    "    cursor = connection.cursor()\n",
    "    query = 'SELECT id, vehicle_license_plate, vehicle_model, vehicle_make, vehicle_year FROM shuttles'\n",
    "    cursor.execute(query)\n",
    "    results = cursor.fetchall()\n",
    "    return pd.DataFrame.from_records(results, columns=['ID', 'LICENSE_PLATE', 'MODEL', 'MAKE', 'YEAR']).set_index('ID')\n",
    "\n",
    "\n",
    "def get_points_for_shuttle(connection, license_plate=''):\n",
    "    cursor = connection.cursor()\n",
    "    query = 'SELECT local_timestamp, location[0], location[1] FROM shuttle_locations l LEFT OUTER JOIN shuttles s ON l.shuttle_id=s.id WHERE s.vehicle_license_plate = (%s)'\n",
    "\n",
    "    cursor.execute(query, (license_plate,))\n",
    "    results = cursor.fetchall()\n",
    "    return pd.DataFrame.from_records(results, columns=['time', 'lat', 'lng']).set_index('time')"
   ]
  },
  {
   "cell_type": "code",
   "execution_count": null,
   "metadata": {
    "collapsed": true
   },
   "outputs": [],
   "source": [
    "def db_connect():\n",
    "    try:\n",
    "        username = os.environ['SHUTTLE_DB_USER']\n",
    "    except KeyError:\n",
    "        username = input('DB Username: ').strip()\n",
    "\n",
    "    try:\n",
    "        password = os.environ['SHUTTLE_DB_PASSWORD']\n",
    "    except KeyError:\n",
    "        password = input('DB Password: ').strip()\n",
    "\n",
    "    conn = psycopg2.connect(host='localhost', user=username, password=password, database='shuttle_database')\n",
    "    return conn"
   ]
  },
  {
   "cell_type": "code",
   "execution_count": null,
   "metadata": {
    "collapsed": true
   },
   "outputs": [],
   "source": [
    "conn = db_connect()"
   ]
  },
  {
   "cell_type": "code",
   "execution_count": null,
   "metadata": {
    "collapsed": true
   },
   "outputs": [],
   "source": [
    "get_points_for_shuttle(conn, 'CP96872')"
   ]
  },
  {
   "cell_type": "code",
   "execution_count": null,
   "metadata": {
    "collapsed": true
   },
   "outputs": [],
   "source": [
    "get_all_shuttles(conn)"
   ]
  },
  {
   "cell_type": "code",
   "execution_count": null,
   "metadata": {
    "collapsed": true
   },
   "outputs": [],
   "source": []
  },
  {
   "cell_type": "code",
   "execution_count": null,
   "metadata": {
    "collapsed": true
   },
   "outputs": [],
   "source": []
  },
  {
   "cell_type": "code",
   "execution_count": null,
   "metadata": {
    "collapsed": true
   },
   "outputs": [],
   "source": []
  },
  {
   "cell_type": "code",
   "execution_count": null,
   "metadata": {
    "collapsed": true
   },
   "outputs": [],
   "source": []
  },
  {
   "cell_type": "code",
   "execution_count": null,
   "metadata": {
    "collapsed": true
   },
   "outputs": [],
   "source": []
  },
  {
   "cell_type": "code",
   "execution_count": null,
   "metadata": {
    "collapsed": true
   },
   "outputs": [],
   "source": []
  },
  {
   "cell_type": "code",
   "execution_count": null,
   "metadata": {
    "collapsed": true
   },
   "outputs": [],
   "source": [
    "import pandas as pd"
   ]
  },
  {
   "cell_type": "code",
   "execution_count": null,
   "metadata": {
    "collapsed": true
   },
   "outputs": [],
   "source": [
    "import psycopg2\n",
    "import os"
   ]
  },
  {
   "cell_type": "code",
   "execution_count": null,
   "metadata": {
    "collapsed": true
   },
   "outputs": [],
   "source": [
    "cursor = conn.cursor()\n",
    "cursor.execute(\"\"\"SELECT * from shuttle_locations s\n",
    "                           join providers p\n",
    "                           on p.id = s.shuttle_id\n",
    "                           limit 20;\"\"\")\n",
    "rows = cursor.fetchall()\n",
    "pd.DataFrame(rows)"
   ]
  },
  {
   "cell_type": "code",
   "execution_count": null,
   "metadata": {
    "collapsed": true
   },
   "outputs": [],
   "source": [
    "column_headers = {\n",
    "    'shuttle_locations': ['shuttle_id', 'tech_provider_id', 'shuttle_company_id',\n",
    "                          'local_timestamp', 'location', 'cnn']\n",
    "}"
   ]
  },
  {
   "cell_type": "code",
   "execution_count": null,
   "metadata": {
    "collapsed": true
   },
   "outputs": [],
   "source": [
    "pd.DataFrame(rows)"
   ]
  },
  {
   "cell_type": "code",
   "execution_count": null,
   "metadata": {
    "collapsed": true
   },
   "outputs": [],
   "source": [
    "m"
   ]
  },
  {
   "cell_type": "code",
   "execution_count": null,
   "metadata": {
    "collapsed": true
   },
   "outputs": [],
   "source": [
    "block_polygons = 'StreetPolygonsWGS.json'\n",
    "\n",
    "with open(block_polygons) as f:\n",
    "    block_json = json.load(f)\n",
    "\n",
    "\n",
    "block_geojson = GeoJSON(data=block_json, hover_style={'fillColor': 'red'})\n",
    "m.add_layer(block_geojson)\n",
    "m"
   ]
  },
  {
   "cell_type": "code",
   "execution_count": null,
   "metadata": {
    "collapsed": true
   },
   "outputs": [],
   "source": [
    "block_json_tmp = block_json\n",
    "block_json_tmp['features'] = block_json['features'][0:100] \n",
    "\n",
    "block_geojson_tmp = GeoJSON(data=block_json_tmp, hover_style={'fillColor': 'red'})\n",
    "m.add_layer(block_geojson_tmp)"
   ]
  },
  {
   "cell_type": "code",
   "execution_count": null,
   "metadata": {
    "collapsed": true
   },
   "outputs": [],
   "source": [
    "block_json_tmp"
   ]
  },
  {
   "cell_type": "code",
   "execution_count": null,
   "metadata": {
    "collapsed": true
   },
   "outputs": [],
   "source": [
    "target_cnn = 224201"
   ]
  },
  {
   "cell_type": "code",
   "execution_count": null,
   "metadata": {
    "collapsed": true
   },
   "outputs": [],
   "source": [
    "for feature in block_json_tmp['features']:\n",
    "    print(feature['properties']['CNN'])"
   ]
  },
  {
   "cell_type": "code",
   "execution_count": null,
   "metadata": {
    "collapsed": true
   },
   "outputs": [],
   "source": []
  },
  {
   "cell_type": "code",
   "execution_count": null,
   "metadata": {
    "collapsed": true
   },
   "outputs": [],
   "source": []
  },
  {
   "cell_type": "code",
   "execution_count": null,
   "metadata": {
    "collapsed": true
   },
   "outputs": [],
   "source": []
  },
  {
   "cell_type": "code",
   "execution_count": null,
   "metadata": {
    "collapsed": true
   },
   "outputs": [],
   "source": []
  },
  {
   "cell_type": "code",
   "execution_count": null,
   "metadata": {
    "collapsed": true
   },
   "outputs": [],
   "source": [
    "###########Initial loading via csv################\n",
    "\n",
    "# import warnings\n",
    "# warnings.simplefilter('ignore')\n",
    "\n",
    "# # Identify column headers\n",
    "# path = 'expanded_shuttle_three_days.csv'\n",
    "\n",
    "# import csv\n",
    "# with open(path, newline='') as f:\n",
    "#     reader = csv.reader(f)\n",
    "#     row1 = next(reader)\n",
    "\n",
    "# columns = row1\n",
    "\n",
    "\n",
    "# import pandas as pd\n",
    "\n",
    "# dtypes = {'SHUTTLE_COMPANY': str, 'RESTRICTION': str, 'ARTERIAL': str,\n",
    "#           'STREET': str}\n",
    "# df = pd.read_csv(path, error_bad_lines=False, names=columns, header=None, dtype=dtypes)\n",
    "\n",
    "# # Remove 1st roow\n",
    "# df = df.iloc[1:]\n",
    "\n",
    "# # Change type to datetime\n",
    "# df['TIMESTAMPLOCAL'] = pd.to_datetime(df['TIMESTAMPLOCAL'], format='%d-%b-%y %I.%M.%S.%f %p')\n",
    "\n",
    "# df"
   ]
  },
  {
   "cell_type": "code",
   "execution_count": null,
   "metadata": {
    "collapsed": true
   },
   "outputs": [],
   "source": [
    "\n",
    "    \n",
    "# # Add blocks\n",
    "# def show_blocks(b):\n",
    "#     blocks = 'tmp2.json'\n",
    "    \n",
    "#     with open(blocks) as f:\n",
    "#         block_json = json.load(f)\n",
    "\n",
    "#     global block_geojson\n",
    "#     block_geojson = GeoJSON(data=block_json)\n",
    "#     m.add_layer(block_geojson)\n",
    "\n",
    "# button_blocks = Button(description=\"Show Blocks\")\n",
    "# button_blocks.on_click(show_blocks)\n"
   ]
  },
  {
   "cell_type": "code",
   "execution_count": null,
   "metadata": {
    "collapsed": true
   },
   "outputs": [],
   "source": []
  },
  {
   "cell_type": "code",
   "execution_count": null,
   "metadata": {
    "collapsed": true
   },
   "outputs": [],
   "source": []
  },
  {
   "cell_type": "code",
   "execution_count": null,
   "metadata": {
    "collapsed": true
   },
   "outputs": [],
   "source": []
  },
  {
   "cell_type": "code",
   "execution_count": null,
   "metadata": {
    "collapsed": true
   },
   "outputs": [],
   "source": []
  },
  {
   "cell_type": "code",
   "execution_count": null,
   "metadata": {
    "collapsed": true
   },
   "outputs": [],
   "source": []
  },
  {
   "cell_type": "code",
   "execution_count": null,
   "metadata": {
    "collapsed": true
   },
   "outputs": [],
   "source": []
  },
  {
   "cell_type": "code",
   "execution_count": null,
   "metadata": {
    "collapsed": true
   },
   "outputs": [],
   "source": []
  },
  {
   "cell_type": "code",
   "execution_count": null,
   "metadata": {
    "collapsed": true
   },
   "outputs": [],
   "source": []
  },
  {
   "cell_type": "code",
   "execution_count": null,
   "metadata": {
    "collapsed": true
   },
   "outputs": [],
   "source": [
    "center = [37.79481, -122.41186]\n",
    "zoom = 12\n",
    "\n",
    "m2 = Map(center=center, zoom=zoom)\n",
    "m2"
   ]
  },
  {
   "cell_type": "code",
   "execution_count": null,
   "metadata": {
    "collapsed": true
   },
   "outputs": [],
   "source": [
    "m2.add_layer(block_geojson)\n",
    "m2"
   ]
  },
  {
   "cell_type": "code",
   "execution_count": null,
   "metadata": {
    "collapsed": true
   },
   "outputs": [],
   "source": [
    "m2.clear_layers()"
   ]
  },
  {
   "cell_type": "code",
   "execution_count": null,
   "metadata": {
    "collapsed": true
   },
   "outputs": [],
   "source": []
  },
  {
   "cell_type": "code",
   "execution_count": null,
   "metadata": {
    "collapsed": true
   },
   "outputs": [],
   "source": [
    "#print(block_geojson)"
   ]
  },
  {
   "cell_type": "code",
   "execution_count": null,
   "metadata": {
    "collapsed": true
   },
   "outputs": [],
   "source": []
  },
  {
   "cell_type": "code",
   "execution_count": null,
   "metadata": {
    "collapsed": true
   },
   "outputs": [],
   "source": []
  },
  {
   "cell_type": "code",
   "execution_count": null,
   "metadata": {
    "collapsed": true
   },
   "outputs": [],
   "source": [
    "block_polygons = 'block_polygons.json'\n",
    "block_shape_file = '../StreetPolygons/StreetPolygons.shp'"
   ]
  },
  {
   "cell_type": "code",
   "execution_count": null,
   "metadata": {
    "collapsed": true
   },
   "outputs": [],
   "source": [
    "import geopandas as gpd"
   ]
  },
  {
   "cell_type": "code",
   "execution_count": null,
   "metadata": {
    "collapsed": true
   },
   "outputs": [],
   "source": [
    "block_polygons_df = gpd.read_file(block_shape_file)\n",
    "block_polygons_df.head()"
   ]
  },
  {
   "cell_type": "code",
   "execution_count": null,
   "metadata": {
    "collapsed": true
   },
   "outputs": [],
   "source": [
    "columns = ['CNN', 'geometry', 'SHAPE_AREA']\n",
    "columns2 = ['geometry']\n",
    "block_df = block_polygons_df[columns2]\n",
    "block_df.to_file(filename='tmp2.json', driver='GeoJSON')"
   ]
  },
  {
   "cell_type": "code",
   "execution_count": null,
   "metadata": {
    "collapsed": true
   },
   "outputs": [],
   "source": [
    "block_polygons_df.iloc[4].geometry"
   ]
  },
  {
   "cell_type": "code",
   "execution_count": null,
   "metadata": {
    "collapsed": true
   },
   "outputs": [],
   "source": [
    "import fiona; fiona.supported_drivers"
   ]
  },
  {
   "cell_type": "code",
   "execution_count": null,
   "metadata": {
    "collapsed": true
   },
   "outputs": [],
   "source": []
  }
 ],
 "metadata": {
  "kernelspec": {
   "display_name": "sfmta",
   "language": "python",
   "name": "sfmta"
  },
  "language_info": {
   "codemirror_mode": {
    "name": "ipython",
    "version": 3
   },
   "file_extension": ".py",
   "mimetype": "text/x-python",
   "name": "python",
   "nbconvert_exporter": "python",
   "pygments_lexer": "ipython3",
   "version": "3.6.2"
  }
 },
 "nbformat": 4,
 "nbformat_minor": 2
}
